{
 "cells": [
  {
   "cell_type": "markdown",
   "metadata": {},
   "source": [
    "# Importing Libraries"
   ]
  },
  {
   "cell_type": "code",
   "execution_count": 2,
   "metadata": {},
   "outputs": [],
   "source": [
    "import tweepy\n",
    "import io\n",
    "import re\n",
    "from textblob import TextBlob "
   ]
  },
  {
   "cell_type": "code",
   "execution_count": 7,
   "metadata": {},
   "outputs": [
    {
     "name": "stdout",
     "output_type": "stream",
     "text": [
      "Authentication Complete!\n",
      "Enter Keyword \n",
      "Modi\n",
      "Written to tweets.txt\n",
      "Positive:  23 Percent\n",
      "Negative:  18 Percent\n",
      "Neutral:  59 Percent\n"
     ]
    }
   ],
   "source": [
    "class Twitter:\n",
    "    def __init__(self):\n",
    "        #Initialising tweepy library and authenticating with twitter using access_keys\n",
    "        consumer_key = 'yec9qqb5GixrrBngG4TLKJ08x'\n",
    "        consumer_secret = '4h8mkItWDuuhSQ1EP6VzIZHzq4izXqct0uLallmqiITDAWgs8V'\n",
    "        access_token = '1194890338030145537-IH55wQR197CzpaJP9LOKYvk15s2tks'\n",
    "        access_token_secret = 'jwffR5EmK2OQu9v21aaSe0Z8bCYtY6Vet3XiA9nPZ5F1U'\n",
    "        try:\n",
    "            self.auth = tweepy.OAuthHandler(consumer_key, consumer_secret)\n",
    "            self.auth.set_access_token(access_token, access_token_secret)\n",
    "            self.api = tweepy.API(self.auth)\n",
    "            print(\"Authentication Complete!\")\n",
    "        except:\n",
    "            print(\"Error: Authentication Failed\")\n",
    "            \n",
    "    def get_tweet(self,query,count=100):\n",
    "        \n",
    "        self.analysis=list()\n",
    "        file=io.open(\"tweets.txt\", \"w\", encoding=\"utf-8\")\n",
    "        for tweet in tweepy.Cursor(self.api.search, q=query).items(count):\n",
    "            m=self.clean_tweet(tweet.text)\n",
    "            file.write(m)\n",
    "            self.analysis.append(self.get_tweet_sentiment(m)) \n",
    "        file.close()\n",
    "        print(\"Written to tweets.txt\")\n",
    "        return self.analysis\n",
    "\n",
    "\n",
    "    def clean_tweet(self, tweet): \n",
    "            \n",
    "        return ' '.join(re.sub(\"(@[A-Za-z0-9]+)|([^0-9A-Za-z \\t])|(\\w+:\\/\\/\\S+)\", \" \", tweet).split())\n",
    "    \n",
    "    def get_tweet_sentiment(self, tweet):\n",
    "        analysis = TextBlob(tweet)\n",
    "        if analysis.sentiment.polarity > 0: \n",
    "            return 'positive'\n",
    "        elif analysis.sentiment.polarity == 0: \n",
    "            return 'neutral'\n",
    "        else: \n",
    "            return 'negative'\n",
    "    \n",
    "    \n",
    "twitter=Twitter()\n",
    "g=twitter.get_tweet(input(\"Enter Keyword \\n\"))\n",
    "print(\"Positive: \",g.count('positive'),\"Percent\")\n",
    "print(\"Negative: \",g.count('negative'),\"Percent\")\n",
    "print(\"Neutral: \",g.count('neutral'),\"Percent\")"
   ]
  },
  {
   "cell_type": "code",
   "execution_count": null,
   "metadata": {},
   "outputs": [],
   "source": []
  }
 ],
 "metadata": {
  "kernelspec": {
   "display_name": "Python 3",
   "language": "python",
   "name": "python3"
  },
  "language_info": {
   "codemirror_mode": {
    "name": "ipython",
    "version": 3
   },
   "file_extension": ".py",
   "mimetype": "text/x-python",
   "name": "python",
   "nbconvert_exporter": "python",
   "pygments_lexer": "ipython3",
   "version": "3.7.3"
  }
 },
 "nbformat": 4,
 "nbformat_minor": 2
}
